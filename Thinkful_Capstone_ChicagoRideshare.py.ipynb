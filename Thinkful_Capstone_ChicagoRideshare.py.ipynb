{
 "cells": [
  {
   "cell_type": "markdown",
   "metadata": {
    "slideshow": {
     "slide_type": "slide"
    }
   },
   "source": [
    "## Thinkful Unsupervised Learning Capstone - \"Analyzing Rideshare Trips in Chicago\"\n",
    "by Ilango Gopalan, December 2019\n",
    "\n",
    "All trips, starting November 2018, reported by Transportation Network Providers (sometimes called rideshare companies) to the City of Chicago as part of routine reporting required by ordinance.\n",
    "\n",
    "This project focuses on the recorded rideshare trips in Chicago from November 2018 through March 2019. The dataset has 1 million records, each representing a specific trip. \n",
    "\n",
    "**https://data.cityofchicago.org/Transportation/Transportation-Network-Providers-Trips/m6dm-c72p**\n",
    "\n",
    "I will be clustering this dataset using 4 different methods to determine which has the best score.  "
   ]
  },
  {
   "cell_type": "code",
   "execution_count": 1,
   "metadata": {
    "slideshow": {
     "slide_type": "slide"
    }
   },
   "outputs": [],
   "source": [
    "import numpy as np\n",
    "import pandas as pd\n",
    "import matplotlib.pyplot as plt\n",
    "import seaborn as sns\n",
    "from sklearn import preprocessing\n",
    "from sklearn.cluster import KMeans\n",
    "from sklearn.preprocessing import normalize\n",
    "from sklearn.decomposition import PCA\n",
    "from sklearn.cluster import MiniBatchKMeans\n",
    "from sklearn.datasets.samples_generator import make_blobs\n",
    "from sklearn.model_selection import train_test_split\n",
    "from sklearn.cluster import MeanShift, estimate_bandwidth\n",
    "from sklearn.cluster import SpectralClustering\n",
    "from sklearn.cluster import AffinityPropagation\n",
    "from sklearn import metrics\n",
    "from itertools import cycle\n",
    "from sklearn.preprocessing import MinMaxScaler\n",
    "%matplotlib inline\n",
    "pd.set_option('display.max_columns', 50)"
   ]
  },
  {
   "cell_type": "code",
   "execution_count": 2,
   "metadata": {
    "slideshow": {
     "slide_type": "fragment"
    }
   },
   "outputs": [],
   "source": [
    "chicago = pd.read_csv(('Chicago_Transportation_Network_Providers_Trips.csv'))\n",
    "#The master file actually has 1 million records"
   ]
  },
  {
   "cell_type": "code",
   "execution_count": 3,
   "metadata": {
    "slideshow": {
     "slide_type": "fragment"
    }
   },
   "outputs": [],
   "source": [
    "date_split = chicago['Trip Start Timestamp'].str.split('/', expand=True)\n",
    "#I want to focus on the month of the particular trip."
   ]
  },
  {
   "cell_type": "code",
   "execution_count": 4,
   "metadata": {
    "slideshow": {
     "slide_type": "fragment"
    }
   },
   "outputs": [],
   "source": [
    "Trip_Month = date_split[0].astype(int)"
   ]
  },
  {
   "cell_type": "code",
   "execution_count": 5,
   "metadata": {
    "slideshow": {
     "slide_type": "fragment"
    }
   },
   "outputs": [],
   "source": [
    "chicago['Trip_Month'] = Trip_Month"
   ]
  },
  {
   "cell_type": "code",
   "execution_count": 6,
   "metadata": {
    "slideshow": {
     "slide_type": "fragment"
    }
   },
   "outputs": [
    {
     "data": {
      "text/html": [
       "<div>\n",
       "<style scoped>\n",
       "    .dataframe tbody tr th:only-of-type {\n",
       "        vertical-align: middle;\n",
       "    }\n",
       "\n",
       "    .dataframe tbody tr th {\n",
       "        vertical-align: top;\n",
       "    }\n",
       "\n",
       "    .dataframe thead th {\n",
       "        text-align: right;\n",
       "    }\n",
       "</style>\n",
       "<table border=\"1\" class=\"dataframe\">\n",
       "  <thead>\n",
       "    <tr style=\"text-align: right;\">\n",
       "      <th></th>\n",
       "      <th>Trip ID</th>\n",
       "      <th>Trip Start Timestamp</th>\n",
       "      <th>Trip End Timestamp</th>\n",
       "      <th>Trip Seconds</th>\n",
       "      <th>Trip Miles</th>\n",
       "      <th>Pickup Census Tract</th>\n",
       "      <th>Dropoff Census Tract</th>\n",
       "      <th>Pickup Community Area</th>\n",
       "      <th>Dropoff Community Area</th>\n",
       "      <th>Fare</th>\n",
       "      <th>Tip</th>\n",
       "      <th>Additional Charges</th>\n",
       "      <th>Trip Total</th>\n",
       "      <th>Shared Trip Authorized</th>\n",
       "      <th>Trips Pooled</th>\n",
       "      <th>Pickup Centroid Latitude</th>\n",
       "      <th>Pickup Centroid Longitude</th>\n",
       "      <th>Pickup Centroid Location</th>\n",
       "      <th>Dropoff Centroid Latitude</th>\n",
       "      <th>Dropoff Centroid Longitude</th>\n",
       "      <th>Dropoff Centroid Location</th>\n",
       "      <th>Trip_Month</th>\n",
       "    </tr>\n",
       "  </thead>\n",
       "  <tbody>\n",
       "    <tr>\n",
       "      <th>0</th>\n",
       "      <td>7c3878e426b989a350e0938b5daba23ec9faf2d3</td>\n",
       "      <td>3/8/2019 10:45</td>\n",
       "      <td>3/8/2019 11:15</td>\n",
       "      <td>1909.0</td>\n",
       "      <td>10.6</td>\n",
       "      <td>NaN</td>\n",
       "      <td>NaN</td>\n",
       "      <td>62.0</td>\n",
       "      <td>32.0</td>\n",
       "      <td>20.0</td>\n",
       "      <td>3</td>\n",
       "      <td>2.55</td>\n",
       "      <td>25.55</td>\n",
       "      <td>False</td>\n",
       "      <td>1</td>\n",
       "      <td>41.792982</td>\n",
       "      <td>-87.724208</td>\n",
       "      <td>POINT (-87.7242081939 41.7929819032)</td>\n",
       "      <td>41.878866</td>\n",
       "      <td>-87.625192</td>\n",
       "      <td>POINT (-87.6251921424 41.8788655841)</td>\n",
       "      <td>3</td>\n",
       "    </tr>\n",
       "  </tbody>\n",
       "</table>\n",
       "</div>"
      ],
      "text/plain": [
       "                                    Trip ID Trip Start Timestamp  \\\n",
       "0  7c3878e426b989a350e0938b5daba23ec9faf2d3       3/8/2019 10:45   \n",
       "\n",
       "  Trip End Timestamp  Trip Seconds  Trip Miles  Pickup Census Tract  \\\n",
       "0     3/8/2019 11:15        1909.0        10.6                  NaN   \n",
       "\n",
       "   Dropoff Census Tract  Pickup Community Area  Dropoff Community Area  Fare  \\\n",
       "0                   NaN                   62.0                    32.0  20.0   \n",
       "\n",
       "   Tip  Additional Charges  Trip Total  Shared Trip Authorized  Trips Pooled  \\\n",
       "0    3                2.55       25.55                   False             1   \n",
       "\n",
       "   Pickup Centroid Latitude  Pickup Centroid Longitude  \\\n",
       "0                 41.792982                 -87.724208   \n",
       "\n",
       "               Pickup Centroid Location  Dropoff Centroid Latitude  \\\n",
       "0  POINT (-87.7242081939 41.7929819032)                  41.878866   \n",
       "\n",
       "   Dropoff Centroid Longitude             Dropoff Centroid Location  \\\n",
       "0                  -87.625192  POINT (-87.6251921424 41.8788655841)   \n",
       "\n",
       "   Trip_Month  \n",
       "0           3  "
      ]
     },
     "execution_count": 6,
     "metadata": {},
     "output_type": "execute_result"
    }
   ],
   "source": [
    "chicago.head(1)"
   ]
  },
  {
   "cell_type": "markdown",
   "metadata": {
    "slideshow": {
     "slide_type": "slide"
    }
   },
   "source": [
    "# Data Cleaning\n",
    "\n",
    "## Following to be dropped:\n",
    "\n",
    "1. Trip ID\n",
    "2. Pickup Census Tract\n",
    "3. Dropff Census Tract\n",
    "4. Pickup Community Area\n",
    "5. Dropoff Community Area\n",
    "6. Fare/Tip/Additional Charges\n",
    "7. Shared Trip Authorized\n",
    "8. Pickup Centroid Latitude/Pickup Centroid Longitude/Pickup Centroid Location/Dropoff Centroid Latitude/Dropoff Centroid/Longitude/Dropoff Centroid Location\n",
    "\n",
    "###  'Trip Seconds' only has 45 missing values (0.0045% of all data), so I will drop the records\n",
    "\n",
    "### I created the 'Trip_Month' feature which lists the month of the ride in integer form"
   ]
  },
  {
   "cell_type": "code",
   "execution_count": 7,
   "metadata": {
    "slideshow": {
     "slide_type": "fragment"
    }
   },
   "outputs": [],
   "source": [
    "chicago = chicago.dropna(how='any', subset=['Trip Seconds']) #Dropping the 45 missing records.  "
   ]
  },
  {
   "cell_type": "code",
   "execution_count": 8,
   "metadata": {
    "slideshow": {
     "slide_type": "fragment"
    }
   },
   "outputs": [
    {
     "data": {
      "text/plain": [
       "Index(['Trip ID', 'Trip Start Timestamp', 'Trip End Timestamp', 'Trip Seconds',\n",
       "       'Trip Miles', 'Pickup Census Tract', 'Dropoff Census Tract',\n",
       "       'Pickup Community Area', 'Dropoff Community Area', 'Fare', 'Tip',\n",
       "       'Additional Charges', 'Trip Total', 'Shared Trip Authorized',\n",
       "       'Trips Pooled', 'Pickup Centroid Latitude', 'Pickup Centroid Longitude',\n",
       "       'Pickup Centroid Location', 'Dropoff Centroid Latitude',\n",
       "       'Dropoff Centroid Longitude', 'Dropoff Centroid Location',\n",
       "       'Trip_Month'],\n",
       "      dtype='object')"
      ]
     },
     "execution_count": 8,
     "metadata": {},
     "output_type": "execute_result"
    }
   ],
   "source": [
    "chicago.columns"
   ]
  },
  {
   "cell_type": "code",
   "execution_count": 9,
   "metadata": {
    "slideshow": {
     "slide_type": "fragment"
    }
   },
   "outputs": [],
   "source": [
    "chicago = chicago.drop(['Trip ID','Pickup Census Tract', 'Dropoff Census Tract',\n",
    "       'Pickup Community Area', 'Dropoff Community Area', 'Fare', 'Tip',\n",
    "       'Additional Charges', 'Shared Trip Authorized','Pickup Centroid Longitude',\n",
    "       'Pickup Centroid Location', 'Dropoff Centroid Latitude',\n",
    "       'Dropoff Centroid Longitude', 'Dropoff Centroid Location', 'Pickup Centroid Latitude' ], axis=1)"
   ]
  },
  {
   "cell_type": "code",
   "execution_count": 10,
   "metadata": {
    "slideshow": {
     "slide_type": "fragment"
    }
   },
   "outputs": [
    {
     "data": {
      "text/html": [
       "<div>\n",
       "<style scoped>\n",
       "    .dataframe tbody tr th:only-of-type {\n",
       "        vertical-align: middle;\n",
       "    }\n",
       "\n",
       "    .dataframe tbody tr th {\n",
       "        vertical-align: top;\n",
       "    }\n",
       "\n",
       "    .dataframe thead th {\n",
       "        text-align: right;\n",
       "    }\n",
       "</style>\n",
       "<table border=\"1\" class=\"dataframe\">\n",
       "  <thead>\n",
       "    <tr style=\"text-align: right;\">\n",
       "      <th></th>\n",
       "      <th>Trip Start Timestamp</th>\n",
       "      <th>Trip End Timestamp</th>\n",
       "      <th>Trip Seconds</th>\n",
       "      <th>Trip Miles</th>\n",
       "      <th>Trip Total</th>\n",
       "      <th>Trips Pooled</th>\n",
       "      <th>Trip_Month</th>\n",
       "    </tr>\n",
       "  </thead>\n",
       "  <tbody>\n",
       "    <tr>\n",
       "      <th>0</th>\n",
       "      <td>3/8/2019 10:45</td>\n",
       "      <td>3/8/2019 11:15</td>\n",
       "      <td>1909.0</td>\n",
       "      <td>10.6</td>\n",
       "      <td>25.55</td>\n",
       "      <td>1</td>\n",
       "      <td>3</td>\n",
       "    </tr>\n",
       "  </tbody>\n",
       "</table>\n",
       "</div>"
      ],
      "text/plain": [
       "  Trip Start Timestamp Trip End Timestamp  Trip Seconds  Trip Miles  \\\n",
       "0       3/8/2019 10:45     3/8/2019 11:15        1909.0        10.6   \n",
       "\n",
       "   Trip Total  Trips Pooled  Trip_Month  \n",
       "0       25.55             1           3  "
      ]
     },
     "execution_count": 10,
     "metadata": {},
     "output_type": "execute_result"
    }
   ],
   "source": [
    "chicago.head(1)"
   ]
  },
  {
   "cell_type": "markdown",
   "metadata": {
    "slideshow": {
     "slide_type": "slide"
    }
   },
   "source": [
    "## Normalizing the features"
   ]
  },
  {
   "cell_type": "code",
   "execution_count": 11,
   "metadata": {
    "slideshow": {
     "slide_type": "slide"
    }
   },
   "outputs": [
    {
     "name": "stderr",
     "output_type": "stream",
     "text": [
      "C:\\Users\\ilang\\Anaconda3\\lib\\site-packages\\sklearn\\preprocessing\\data.py:323: DataConversionWarning: Data with input dtype int64 were all converted to float64 by MinMaxScaler.\n",
      "  return self.partial_fit(X, y)\n",
      "C:\\Users\\ilang\\Anaconda3\\lib\\site-packages\\sklearn\\preprocessing\\data.py:323: DataConversionWarning: Data with input dtype int32 were all converted to float64 by MinMaxScaler.\n",
      "  return self.partial_fit(X, y)\n"
     ]
    }
   ],
   "source": [
    "scaler = MinMaxScaler()\n",
    "scaler.fit(chicago[['Trip Seconds']])\n",
    "chicago['Trip Seconds'] = scaler.transform(chicago[['Trip Seconds']])\n",
    "\n",
    "scaler.fit(chicago[['Trip Miles']])\n",
    "chicago['Trip Miles'] = scaler.transform(chicago[['Trip Miles']])\n",
    "\n",
    "scaler.fit(chicago[['Trip Total']])\n",
    "chicago['Trip Total'] = scaler.transform(chicago[['Trip Total']])\n",
    "\n",
    "scaler.fit(chicago[['Trips Pooled']])\n",
    "chicago['Trips Pooled'] = scaler.transform(chicago[['Trips Pooled']])\n",
    "\n",
    "\n",
    "scaler.fit(chicago[['Trip_Month']])\n",
    "chicago['Trip_Month'] = scaler.transform(chicago[['Trip_Month']])"
   ]
  },
  {
   "cell_type": "code",
   "execution_count": 12,
   "metadata": {
    "slideshow": {
     "slide_type": "fragment"
    }
   },
   "outputs": [],
   "source": [
    "chicago_sample = chicago.sample(frac=.01, random_state=99) \n",
    "#I'm taking a 1% sample of the dataset due to the high volume of records, so I can work with 10,485 rows"
   ]
  },
  {
   "cell_type": "code",
   "execution_count": 13,
   "metadata": {
    "slideshow": {
     "slide_type": "fragment"
    }
   },
   "outputs": [],
   "source": [
    "#Based on column info, I need to convert 'Trip Seconds' from object to float\n",
    "chicago_sample[\"Trip Seconds\"] = chicago[\"Trip Seconds\"].astype(float)"
   ]
  },
  {
   "cell_type": "code",
   "execution_count": 14,
   "metadata": {
    "slideshow": {
     "slide_type": "fragment"
    }
   },
   "outputs": [
    {
     "data": {
      "text/html": [
       "<div>\n",
       "<style scoped>\n",
       "    .dataframe tbody tr th:only-of-type {\n",
       "        vertical-align: middle;\n",
       "    }\n",
       "\n",
       "    .dataframe tbody tr th {\n",
       "        vertical-align: top;\n",
       "    }\n",
       "\n",
       "    .dataframe thead th {\n",
       "        text-align: right;\n",
       "    }\n",
       "</style>\n",
       "<table border=\"1\" class=\"dataframe\">\n",
       "  <thead>\n",
       "    <tr style=\"text-align: right;\">\n",
       "      <th></th>\n",
       "      <th>Trip Start Timestamp</th>\n",
       "      <th>Trip End Timestamp</th>\n",
       "      <th>Trip Seconds</th>\n",
       "      <th>Trip Miles</th>\n",
       "      <th>Trip Total</th>\n",
       "      <th>Trips Pooled</th>\n",
       "      <th>Trip_Month</th>\n",
       "    </tr>\n",
       "  </thead>\n",
       "  <tbody>\n",
       "    <tr>\n",
       "      <th>1031041</th>\n",
       "      <td>1/29/2019 11:45</td>\n",
       "      <td>1/29/2019 11:45</td>\n",
       "      <td>0.010751</td>\n",
       "      <td>0.001316</td>\n",
       "      <td>0.004371</td>\n",
       "      <td>0.0</td>\n",
       "      <td>0.0</td>\n",
       "    </tr>\n",
       "  </tbody>\n",
       "</table>\n",
       "</div>"
      ],
      "text/plain": [
       "        Trip Start Timestamp Trip End Timestamp  Trip Seconds  Trip Miles  \\\n",
       "1031041      1/29/2019 11:45    1/29/2019 11:45      0.010751    0.001316   \n",
       "\n",
       "         Trip Total  Trips Pooled  Trip_Month  \n",
       "1031041    0.004371           0.0         0.0  "
      ]
     },
     "execution_count": 14,
     "metadata": {},
     "output_type": "execute_result"
    }
   ],
   "source": [
    "chicago_sample.head(1)"
   ]
  },
  {
   "cell_type": "markdown",
   "metadata": {
    "slideshow": {
     "slide_type": "slide"
    }
   },
   "source": [
    "# NaN and blank values have been removed, we move to visualization."
   ]
  },
  {
   "cell_type": "markdown",
   "metadata": {
    "slideshow": {
     "slide_type": "fragment"
    }
   },
   "source": [
    "### A scatter plot visualizing the duration of the ride compared to the money spent.  \n",
    "\n",
    "**The outliers in this dataset do make sense, as a very long Uber/Lyft ride (5+ hours) would result in a higher than normal fare**"
   ]
  },
  {
   "cell_type": "code",
   "execution_count": 15,
   "metadata": {
    "slideshow": {
     "slide_type": "fragment"
    }
   },
   "outputs": [
    {
     "data": {
      "text/plain": [
       "<matplotlib.collections.PathCollection at 0x24585afab00>"
      ]
     },
     "execution_count": 15,
     "metadata": {},
     "output_type": "execute_result"
    },
    {
     "data": {
      "image/png": "[encoded data removed]",
      "text/plain": [
       "<Figure size 432x288 with 1 Axes>"
      ]
     },
     "metadata": {
      "needs_background": "light"
     },
     "output_type": "display_data"
    }
   ],
   "source": [
    "plt.scatter(chicago_sample[\"Trip Seconds\"], chicago_sample[\"Trip Total\"])"
   ]
  },
  {
   "cell_type": "markdown",
   "metadata": {
    "slideshow": {
     "slide_type": "slide"
    }
   },
   "source": [
    "# Define X as my continuous features (all normalized) to be clustered"
   ]
  },
  {
   "cell_type": "code",
   "execution_count": 16,
   "metadata": {
    "slideshow": {
     "slide_type": "fragment"
    }
   },
   "outputs": [],
   "source": [
    "X = chicago_sample[['Trip Seconds', 'Trip Total', 'Trip Miles', 'Trips Pooled', 'Trip_Month']]"
   ]
  },
  {
   "cell_type": "markdown",
   "metadata": {
    "slideshow": {
     "slide_type": "slide"
    }
   },
   "source": [
    "# KMeans Clustering\n",
    "\n",
    "### I will begin with 3 clusters"
   ]
  },
  {
   "cell_type": "code",
   "execution_count": 17,
   "metadata": {
    "slideshow": {
     "slide_type": "fragment"
    }
   },
   "outputs": [],
   "source": [
    "n_clusters =3"
   ]
  },
  {
   "cell_type": "code",
   "execution_count": 18,
   "metadata": {
    "slideshow": {
     "slide_type": "fragment"
    }
   },
   "outputs": [
    {
     "data": {
      "text/plain": [
       "KMeans(algorithm='auto', copy_x=True, init='k-means++', max_iter=300,\n",
       "    n_clusters=3, n_init=10, n_jobs=None, precompute_distances='auto',\n",
       "    random_state=None, tol=0.0001, verbose=0)"
      ]
     },
     "execution_count": 18,
     "metadata": {},
     "output_type": "execute_result"
    }
   ],
   "source": [
    "km = KMeans(n_clusters) \n",
    "km"
   ]
  },
  {
   "cell_type": "code",
   "execution_count": 19,
   "metadata": {
    "slideshow": {
     "slide_type": "fragment"
    }
   },
   "outputs": [
    {
     "data": {
      "text/plain": [
       "array([2, 2, 2, ..., 1, 2, 0])"
      ]
     },
     "execution_count": 19,
     "metadata": {},
     "output_type": "execute_result"
    }
   ],
   "source": [
    "y_pred = km.fit_predict(chicago_sample[['Trip Seconds', 'Trip Total', 'Trip Miles', 'Trips Pooled', 'Trip_Month']])\n",
    "y_pred"
   ]
  },
  {
   "cell_type": "code",
   "execution_count": 20,
   "metadata": {
    "slideshow": {
     "slide_type": "fragment"
    }
   },
   "outputs": [
    {
     "data": {
      "text/html": [
       "<div>\n",
       "<style scoped>\n",
       "    .dataframe tbody tr th:only-of-type {\n",
       "        vertical-align: middle;\n",
       "    }\n",
       "\n",
       "    .dataframe tbody tr th {\n",
       "        vertical-align: top;\n",
       "    }\n",
       "\n",
       "    .dataframe thead th {\n",
       "        text-align: right;\n",
       "    }\n",
       "</style>\n",
       "<table border=\"1\" class=\"dataframe\">\n",
       "  <thead>\n",
       "    <tr style=\"text-align: right;\">\n",
       "      <th></th>\n",
       "      <th>Trip Start Timestamp</th>\n",
       "      <th>Trip End Timestamp</th>\n",
       "      <th>Trip Seconds</th>\n",
       "      <th>Trip Miles</th>\n",
       "      <th>Trip Total</th>\n",
       "      <th>Trips Pooled</th>\n",
       "      <th>Trip_Month</th>\n",
       "      <th>cluster</th>\n",
       "    </tr>\n",
       "  </thead>\n",
       "  <tbody>\n",
       "    <tr>\n",
       "      <th>1031041</th>\n",
       "      <td>1/29/2019 11:45</td>\n",
       "      <td>1/29/2019 11:45</td>\n",
       "      <td>0.010751</td>\n",
       "      <td>0.001316</td>\n",
       "      <td>0.004371</td>\n",
       "      <td>0.000000</td>\n",
       "      <td>0.000000</td>\n",
       "      <td>2</td>\n",
       "    </tr>\n",
       "    <tr>\n",
       "      <th>994118</th>\n",
       "      <td>2/11/2019 7:00</td>\n",
       "      <td>2/11/2019 7:00</td>\n",
       "      <td>0.012922</td>\n",
       "      <td>0.003949</td>\n",
       "      <td>0.006865</td>\n",
       "      <td>0.000000</td>\n",
       "      <td>0.090909</td>\n",
       "      <td>2</td>\n",
       "    </tr>\n",
       "    <tr>\n",
       "      <th>553259</th>\n",
       "      <td>2/24/2019 17:45</td>\n",
       "      <td>2/24/2019 18:00</td>\n",
       "      <td>0.032080</td>\n",
       "      <td>0.011846</td>\n",
       "      <td>0.011356</td>\n",
       "      <td>0.000000</td>\n",
       "      <td>0.090909</td>\n",
       "      <td>2</td>\n",
       "    </tr>\n",
       "    <tr>\n",
       "      <th>702775</th>\n",
       "      <td>1/28/2019 8:30</td>\n",
       "      <td>1/28/2019 8:45</td>\n",
       "      <td>0.054168</td>\n",
       "      <td>0.013162</td>\n",
       "      <td>0.004371</td>\n",
       "      <td>0.285714</td>\n",
       "      <td>0.000000</td>\n",
       "      <td>2</td>\n",
       "    </tr>\n",
       "    <tr>\n",
       "      <th>866455</th>\n",
       "      <td>1/19/2019 23:15</td>\n",
       "      <td>1/19/2019 23:15</td>\n",
       "      <td>0.024155</td>\n",
       "      <td>0.011517</td>\n",
       "      <td>0.009360</td>\n",
       "      <td>0.000000</td>\n",
       "      <td>0.000000</td>\n",
       "      <td>2</td>\n",
       "    </tr>\n",
       "  </tbody>\n",
       "</table>\n",
       "</div>"
      ],
      "text/plain": [
       "        Trip Start Timestamp Trip End Timestamp  Trip Seconds  Trip Miles  \\\n",
       "1031041      1/29/2019 11:45    1/29/2019 11:45      0.010751    0.001316   \n",
       "994118        2/11/2019 7:00     2/11/2019 7:00      0.012922    0.003949   \n",
       "553259       2/24/2019 17:45    2/24/2019 18:00      0.032080    0.011846   \n",
       "702775        1/28/2019 8:30     1/28/2019 8:45      0.054168    0.013162   \n",
       "866455       1/19/2019 23:15    1/19/2019 23:15      0.024155    0.011517   \n",
       "\n",
       "         Trip Total  Trips Pooled  Trip_Month  cluster  \n",
       "1031041    0.004371      0.000000    0.000000        2  \n",
       "994118     0.006865      0.000000    0.090909        2  \n",
       "553259     0.011356      0.000000    0.090909        2  \n",
       "702775     0.004371      0.285714    0.000000        2  \n",
       "866455     0.009360      0.000000    0.000000        2  "
      ]
     },
     "execution_count": 20,
     "metadata": {},
     "output_type": "execute_result"
    }
   ],
   "source": [
    "chicago_sample['cluster'] = y_pred\n",
    "\n",
    "chicago_sample.head()"
   ]
  },
  {
   "cell_type": "code",
   "execution_count": 21,
   "metadata": {
    "slideshow": {
     "slide_type": "fragment"
    }
   },
   "outputs": [
    {
     "data": {
      "text/plain": [
       "KMeans(algorithm='auto', copy_x=True, init='k-means++', max_iter=300,\n",
       "    n_clusters=         Trip Seconds  Trip Total  Trip Miles  Trips Pooled  Trip_Month\n",
       "1031041      0.010751    0.004371    0.001316      0.000000    0.000000\n",
       "994118       0.012922    0.006865    0.003949      0.000000    0.090909\n",
       "553259       0.032080    0.011356    0.011846      0.000000    0.090909\n",
       "7...09\n",
       "420683       0.071190    0.027322    0.041132      0.000000    0.181818\n",
       "\n",
       "[10485 rows x 5 columns],\n",
       "    n_init=10, n_jobs=None, precompute_distances='auto', random_state=None,\n",
       "    tol=0.0001, verbose=0)"
      ]
     },
     "execution_count": 21,
     "metadata": {},
     "output_type": "execute_result"
    }
   ],
   "source": [
    "km = KMeans(X)\n",
    "km"
   ]
  },
  {
   "cell_type": "code",
   "execution_count": 28,
   "metadata": {
    "slideshow": {
     "slide_type": "fragment"
    }
   },
   "outputs": [
    {
     "name": "stdout",
     "output_type": "stream",
     "text": [
      "0.5345542724795379\n"
     ]
    }
   ],
   "source": [
    "from sklearn import metrics\n",
    "print(metrics.silhouette_score(chicago_sample[['Trip Seconds', 'Trip Total', 'Trip Miles', 'Trips Pooled', 'Trip_Month']], y_pred, metric='euclidean'))"
   ]
  },
  {
   "cell_type": "code",
   "execution_count": 43,
   "metadata": {
    "slideshow": {
     "slide_type": "fragment"
    }
   },
   "outputs": [
    {
     "data": {
      "text/html": [
       "<div>\n",
       "<style scoped>\n",
       "    .dataframe tbody tr th:only-of-type {\n",
       "        vertical-align: middle;\n",
       "    }\n",
       "\n",
       "    .dataframe tbody tr th {\n",
       "        vertical-align: top;\n",
       "    }\n",
       "\n",
       "    .dataframe thead th {\n",
       "        text-align: right;\n",
       "    }\n",
       "</style>\n",
       "<table border=\"1\" class=\"dataframe\">\n",
       "  <thead>\n",
       "    <tr style=\"text-align: right;\">\n",
       "      <th>col_0</th>\n",
       "      <th>0</th>\n",
       "      <th>1</th>\n",
       "      <th>2</th>\n",
       "    </tr>\n",
       "    <tr>\n",
       "      <th>row_0</th>\n",
       "      <th></th>\n",
       "      <th></th>\n",
       "      <th></th>\n",
       "    </tr>\n",
       "  </thead>\n",
       "  <tbody>\n",
       "    <tr>\n",
       "      <th>0</th>\n",
       "      <td>3053</td>\n",
       "      <td>0</td>\n",
       "      <td>0</td>\n",
       "    </tr>\n",
       "    <tr>\n",
       "      <th>1</th>\n",
       "      <td>0</td>\n",
       "      <td>1856</td>\n",
       "      <td>0</td>\n",
       "    </tr>\n",
       "    <tr>\n",
       "      <th>2</th>\n",
       "      <td>0</td>\n",
       "      <td>0</td>\n",
       "      <td>5576</td>\n",
       "    </tr>\n",
       "  </tbody>\n",
       "</table>\n",
       "</div>"
      ],
      "text/plain": [
       "col_0     0     1     2\n",
       "row_0                  \n",
       "0      3053     0     0\n",
       "1         0  1856     0\n",
       "2         0     0  5576"
      ]
     },
     "execution_count": 43,
     "metadata": {},
     "output_type": "execute_result"
    }
   ],
   "source": [
    "full_pred = KMeans(n_clusters=3, random_state=42).fit_predict(X)\n",
    "\n",
    "pd.crosstab(y_pred, full_pred) "
   ]
  },
  {
   "cell_type": "markdown",
   "metadata": {
    "slideshow": {
     "slide_type": "slide"
    }
   },
   "source": [
    "# MeanShift Clustering"
   ]
  },
  {
   "cell_type": "code",
   "execution_count": 47,
   "metadata": {
    "slideshow": {
     "slide_type": "slide"
    }
   },
   "outputs": [
    {
     "data": {
      "text/plain": [
       "0.7625048550036536"
      ]
     },
     "execution_count": 47,
     "metadata": {},
     "output_type": "execute_result"
    }
   ],
   "source": [
    "from sklearn.cluster import MeanShift, estimate_bandwidth\n",
    "\n",
    "\n",
    "ms = MeanShift()\n",
    "\n",
    "ms_preds = ms.fit_predict(X)\n",
    "\n",
    "metrics.silhouette_score(X, ms_preds, metric='euclidean')"
   ]
  },
  {
   "cell_type": "markdown",
   "metadata": {
    "slideshow": {
     "slide_type": "slide"
    }
   },
   "source": [
    "# Spectral Clustering"
   ]
  },
  {
   "cell_type": "code",
   "execution_count": 52,
   "metadata": {
    "slideshow": {
     "slide_type": "slide"
    }
   },
   "outputs": [
    {
     "data": {
      "text/plain": [
       "0.5706320488580467"
      ]
     },
     "execution_count": 52,
     "metadata": {},
     "output_type": "execute_result"
    }
   ],
   "source": [
    "# Declare and fit the model.\n",
    "\n",
    "sc = SpectralClustering(n_clusters = 3)\n",
    "\n",
    "sc_preds = sc.fit_predict(X)\n",
    "\n",
    "metrics.silhouette_score(X, sc_preds, metric='euclidean')"
   ]
  },
  {
   "cell_type": "markdown",
   "metadata": {
    "slideshow": {
     "slide_type": "slide"
    }
   },
   "source": [
    "# Affinity Propogation Clustering"
   ]
  },
  {
   "cell_type": "code",
   "execution_count": 55,
   "metadata": {
    "slideshow": {
     "slide_type": "slide"
    }
   },
   "outputs": [
    {
     "data": {
      "text/plain": [
       "0.32456960829801074"
      ]
     },
     "execution_count": 55,
     "metadata": {},
     "output_type": "execute_result"
    }
   ],
   "source": [
    "af = AffinityPropagation()\n",
    "af_preds = af.fit_predict(X)\n",
    "metrics.silhouette_score(X, af_preds, metric='euclidean')"
   ]
  },
  {
   "cell_type": "markdown",
   "metadata": {
    "slideshow": {
     "slide_type": "slide"
    }
   },
   "source": [
    "# Evaluation\n",
    "\n",
    "### 1. K Means was the easiest clustering model, but it didn't provide a cluster volume, I needed to guess on it.  Previously I used 12 clusters to attribute to the month of a specific ride, and that score wasn't reliable.  Now using 3 clusters, my score improved.  K Means also assumed my clusters were circular, but from comparing a scatter plot of length of trip to money spent, the visuals were more rectangular.  \n",
    "\n",
    "### 2. MeanShift Clustering offers the highest score.  \n",
    "\n",
    "### 3. Spectral Clustering had a better score than KMeans, but the cluster volume still had to be guessed.\n",
    "\n",
    "### 4. Affinity Clustering took an extremely long time for 10,000 records over 5 features, but didn't require cluster volume."
   ]
  },
  {
   "cell_type": "code",
   "execution_count": null,
   "metadata": {
    "slideshow": {
     "slide_type": "skip"
    }
   },
   "outputs": [],
   "source": []
  }
 ],
 "metadata": {
  "celltoolbar": "Slideshow",
  "kernelspec": {
   "display_name": "Python 3",
   "language": "python",
   "name": "python3"
  },
  "language_info": {
   "codemirror_mode": {
    "name": "ipython",
    "version": 3
   },
   "file_extension": ".py",
   "mimetype": "text/x-python",
   "name": "python",
   "nbconvert_exporter": "python",
   "pygments_lexer": "ipython3",
   "version": "3.7.1"
  }
 },
 "nbformat": 4,
 "nbformat_minor": 2
}
